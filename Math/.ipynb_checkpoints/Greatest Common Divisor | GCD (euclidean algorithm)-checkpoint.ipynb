{
 "cells": [
  {
   "cell_type": "markdown",
   "metadata": {},
   "source": [
    "# Greatest Common Divisor\n",
    "### Euclidean algorithm:\n",
    "* By Subtraction\n",
    "* By mod/div"
   ]
  },
  {
   "cell_type": "code",
   "execution_count": 2,
   "metadata": {},
   "outputs": [
    {
     "name": "stdout",
     "output_type": "stream",
     "text": [
      "25\n"
     ]
    }
   ],
   "source": [
    "a = 100\n",
    "b = 25\n",
    "\n",
    "def gcd_subst(a, b):\n",
    "    if a == b: \n",
    "        return a\n",
    "    else:\n",
    "        max, min = a if a > b else b, a if a < b else b\n",
    "        return gcd_subst(max - min, min)\n",
    "\n",
    "def gcd_div(a, b):\n",
    "    if b == 0: \n",
    "        return a\n",
    "    else:\n",
    "        return gcd_div(b, a % b) \n",
    "    \n",
    "    \n",
    "print (gcd_subst(a,b))   "
   ]
  },
  {
   "cell_type": "code",
   "execution_count": null,
   "metadata": {},
   "outputs": [],
   "source": []
  }
 ],
 "metadata": {
  "kernelspec": {
   "display_name": "Python 3",
   "language": "python",
   "name": "python3"
  },
  "language_info": {
   "codemirror_mode": {
    "name": "ipython",
    "version": 3
   },
   "file_extension": ".py",
   "mimetype": "text/x-python",
   "name": "python",
   "nbconvert_exporter": "python",
   "pygments_lexer": "ipython3",
   "version": "3.6.5"
  }
 },
 "nbformat": 4,
 "nbformat_minor": 2
}
