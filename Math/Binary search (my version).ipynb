{
 "cells": [
  {
   "cell_type": "markdown",
   "metadata": {},
   "source": [
    "## Binary search (My version)\n",
    "### Made with:\n",
    "* While statement\n",
    "* Recursion approach"
   ]
  },
  {
   "cell_type": "code",
   "execution_count": 127,
   "metadata": {},
   "outputs": [],
   "source": [
    "s = []\n",
    "for i in range(0, 20000):\n",
    "    s.append(i*10)"
   ]
  },
  {
   "cell_type": "code",
   "execution_count": 148,
   "metadata": {},
   "outputs": [
    {
     "name": "stdout",
     "output_type": "stream",
     "text": [
      "9000\n",
      "9000\n"
     ]
    }
   ],
   "source": [
    "def binary_search_while(list, item):\n",
    "    \n",
    "    start = 0\n",
    "    end = len(list)-1\n",
    "    middle = 0\n",
    "    \n",
    "    if list[end] < item or list[start] > item:\n",
    "        return -1\n",
    "    \n",
    "    while item != list[middle]:        \n",
    "        if (middle != int((end + start) / 2)):      \n",
    "            middle = int((end + start) / 2)        \n",
    "        else:\n",
    "             return -1\n",
    "        if list[middle] < item:\n",
    "            start = middle + 1\n",
    "        else:\n",
    "            end = middle - 1\n",
    "    return middle\n",
    "    \n",
    "def binary_search_recursion_sub(start, middle, end, item, list):\n",
    "    if item != list[middle]:\n",
    "        if (middle != int((end + start) / 2)):      \n",
    "            middle = int((end + start) / 2)\n",
    "            if list[middle] < item:\n",
    "                start = middle + 1\n",
    "            else:\n",
    "                end = middle - 1\n",
    "            return binary_search_recursion_sub(start, middle, end, item, list)\n",
    "        else: \n",
    "            return -1\n",
    "    else:\n",
    "        return middle\n",
    "        \n",
    "\n",
    "def binary_search_recursion(list, item):\n",
    "    start = 0 \n",
    "    end = len(list) - 1\n",
    "    if list[end] < item or list[start] > item:\n",
    "        return -1\n",
    "    return binary_search_recursion_sub(start, 0, end, item, list)\n",
    "    \n",
    "print(binary_search_while(s, 90000))\n",
    "print(binary_search_recursion(s, 90000))"
   ]
  },
  {
   "cell_type": "code",
   "execution_count": null,
   "metadata": {},
   "outputs": [],
   "source": []
  }
 ],
 "metadata": {
  "kernelspec": {
   "display_name": "Python 3",
   "language": "python",
   "name": "python3"
  },
  "language_info": {
   "codemirror_mode": {
    "name": "ipython",
    "version": 3
   },
   "file_extension": ".py",
   "mimetype": "text/x-python",
   "name": "python",
   "nbconvert_exporter": "python",
   "pygments_lexer": "ipython3",
   "version": "3.6.5"
  }
 },
 "nbformat": 4,
 "nbformat_minor": 2
}
