{
 "cells": [
  {
   "cell_type": "markdown",
   "metadata": {},
   "source": [
    "## Binary search (Book's version)\n",
    "### Made with:\n",
    "* While statement\n",
    "* Recursion approach"
   ]
  },
  {
   "cell_type": "code",
   "execution_count": 24,
   "metadata": {},
   "outputs": [],
   "source": [
    "my_list = []\n",
    "for i in range(0, 8):\n",
    "    my_list.append(i)"
   ]
  },
  {
   "cell_type": "code",
   "execution_count": 32,
   "metadata": {},
   "outputs": [
    {
     "name": "stdout",
     "output_type": "stream",
     "text": [
      "3\n",
      "5\n",
      "6\n",
      "7\n",
      "-1\n"
     ]
    }
   ],
   "source": [
    "def binary_search_while(list, item):\n",
    "    start = 0\n",
    "    end = len(list) - 1\n",
    "    while start <= end:      \n",
    "        middle = int((start + end) / 2)\n",
    "        print(middle)\n",
    "        if  list[middle] == item:\n",
    "            return middle\n",
    "        if list[middle] < item:\n",
    "            start = middle + 1\n",
    "        else:\n",
    "            end = middle - 1\n",
    "    return -1\n",
    "    \n",
    "print(binary_search_while(my_list, 1000))"
   ]
  },
  {
   "cell_type": "code",
   "execution_count": null,
   "metadata": {},
   "outputs": [],
   "source": []
  },
  {
   "cell_type": "code",
   "execution_count": 45,
   "metadata": {},
   "outputs": [
    {
     "name": "stdout",
     "output_type": "stream",
     "text": [
      "0 3 7\n",
      "0 1 2\n",
      "0 0 0\n",
      "0\n"
     ]
    }
   ],
   "source": [
    "def binary_search_recursion_sub(start, end, list, item):\n",
    "    print(start, int((start + end) / 2), end)\n",
    "    if start <= end:\n",
    "        middle = int((start + end) / 2) \n",
    "        if  list[middle] == item:\n",
    "            return middle\n",
    "        if list[middle] < item:\n",
    "            start = middle + 1\n",
    "        else:\n",
    "            end = middle - 1 \n",
    "        return binary_search_recursion_sub(start, end, list, item)\n",
    "    return -1\n",
    "        \n",
    "    \n",
    "def binary_search_recursion(list, item):\n",
    "    start = 0\n",
    "    end = len(list) - 1 \n",
    "    return binary_search_recursion_sub(start, end, list, item)\n",
    "\n",
    "\n",
    "print(binary_search_recursion(my_list, 0))"
   ]
  },
  {
   "cell_type": "code",
   "execution_count": null,
   "metadata": {},
   "outputs": [],
   "source": []
  }
 ],
 "metadata": {
  "kernelspec": {
   "display_name": "Python 3",
   "language": "python",
   "name": "python3"
  },
  "language_info": {
   "codemirror_mode": {
    "name": "ipython",
    "version": 3
   },
   "file_extension": ".py",
   "mimetype": "text/x-python",
   "name": "python",
   "nbconvert_exporter": "python",
   "pygments_lexer": "ipython3",
   "version": "3.6.5"
  }
 },
 "nbformat": 4,
 "nbformat_minor": 2
}
