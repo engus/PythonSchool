{
 "cells": [
  {
   "cell_type": "markdown",
   "metadata": {},
   "source": [
    "### Modul 1. Lesson 7\n",
    "Блок 6. Проверки"
   ]
  },
  {
   "cell_type": "code",
   "execution_count": 4,
   "metadata": {},
   "outputs": [
    {
     "name": "stdout",
     "output_type": "stream",
     "text": [
      "0.0008972727272727272\n",
      "av ctr lower than threshold\n"
     ]
    }
   ],
   "source": [
    "banner1_shows = 1000000 \n",
    "banner1_clicks = 983 \n",
    "\n",
    "banner2_shows = 100000 \n",
    "banner2_clicks = 4 \n",
    "\n",
    "total_ctr  =(banner1_clicks + banner2_clicks) / (banner1_shows + banner2_shows)\n",
    "print(total_ctr)\n",
    "if total_ctr > 0.0009:\n",
    "    print('av ctr higher than threshold')    \n",
    "else:\n",
    "    print('av ctr lower than threshold')"
   ]
  },
  {
   "cell_type": "code",
   "execution_count": 6,
   "metadata": {},
   "outputs": [
    {
     "name": "stdout",
     "output_type": "stream",
     "text": [
      "paid\n"
     ]
    }
   ],
   "source": [
    "traficSources=['прямой заход','яндекс','партнерка','вконтакте','инфопартнеры']\n",
    "\n",
    "free_message = 'free'\n",
    "paid_message = 'paid'\n",
    "\n",
    "source = 'яндекс'\n",
    "\n",
    "if source == 'прямой заход':\n",
    "    print(free_message)\n",
    "elif source == 'инфопартнеры':\n",
    "    print(free_message)\n",
    "else:\n",
    "    print(paid_message)\n"
   ]
  },
  {
   "cell_type": "code",
   "execution_count": 9,
   "metadata": {},
   "outputs": [
    {
     "name": "stdout",
     "output_type": "stream",
     "text": [
      "paid\n"
     ]
    }
   ],
   "source": [
    "free_message = 'free'\n",
    "paid_message = 'paid'\n",
    "\n",
    "source = 'инфопартнеры'\n",
    "\n",
    "if source == 'яндекс' or source == 'гугл' :\n",
    "    print(free_message)\n",
    "else:\n",
    "    print(paid_message)\n"
   ]
  },
  {
   "cell_type": "code",
   "execution_count": 10,
   "metadata": {},
   "outputs": [
    {
     "name": "stdout",
     "output_type": "stream",
     "text": [
      "not in\n"
     ]
    }
   ],
   "source": [
    "semantic_list = ['одеяло !купить', 'одеяло !продажа','одеяло цена',  'одеяло стоимость','одеяло прайс','одеяло дешево', 'одеяло недорого','одеяло заказать','одеяло на заказ', 'одеяло с доставкой', 'одеяло магазин','одеяло интернет магазин', 'одеяло со скидкой','одеяло акция','одеяло распродажа']\n",
    "\n",
    "string_to_find = 'одеяло по дешевке'\n",
    "\n",
    "if string_to_find in semantic_list:\n",
    "    print('in')\n",
    "else: \n",
    "    print('not in')"
   ]
  },
  {
   "cell_type": "code",
   "execution_count": 14,
   "metadata": {},
   "outputs": [
    {
     "name": "stdout",
     "output_type": "stream",
     "text": [
      "in\n"
     ]
    }
   ],
   "source": [
    "text = 'Название языка питон произошло вовсе не от вида пресмыкающихся. Автор назвал язык в честь популярного британского комедийного телешоу 1970-х Летающий цирк Монти Пайтона'\n",
    "name_to_find = 'Монти'\n",
    "\n",
    "if name_to_find in text:\n",
    "    print('in')"
   ]
  },
  {
   "cell_type": "code",
   "execution_count": null,
   "metadata": {},
   "outputs": [],
   "source": []
  }
 ],
 "metadata": {
  "kernelspec": {
   "display_name": "Python 3",
   "language": "python",
   "name": "python3"
  },
  "language_info": {
   "codemirror_mode": {
    "name": "ipython",
    "version": 3
   },
   "file_extension": ".py",
   "mimetype": "text/x-python",
   "name": "python",
   "nbconvert_exporter": "python",
   "pygments_lexer": "ipython3",
   "version": "3.6.5"
  }
 },
 "nbformat": 4,
 "nbformat_minor": 2
}
