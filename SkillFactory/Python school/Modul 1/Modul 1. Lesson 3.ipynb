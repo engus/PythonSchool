{
 "cells": [
  {
   "cell_type": "markdown",
   "metadata": {},
   "source": [
    "### Modul 1. Lesson 3\n",
    "Блок 3. Вывод результатов и комментариев."
   ]
  },
  {
   "cell_type": "code",
   "execution_count": 3,
   "metadata": {},
   "outputs": [
    {
     "name": "stdout",
     "output_type": "stream",
     "text": [
      "Название курса Python для анализа данных\n"
     ]
    }
   ],
   "source": [
    "projectName = 'Python для анализа данных'\n",
    "\n",
    "print( 'Название курса ' + projectName)"
   ]
  },
  {
   "cell_type": "code",
   "execution_count": 9,
   "metadata": {},
   "outputs": [
    {
     "name": "stdout",
     "output_type": "stream",
     "text": [
      "Результаты первой кампании: показов 1000000, кликов 983, CTR 0.098%\n"
     ]
    }
   ],
   "source": [
    "banner1_impressions = 1000000\n",
    "banner1_clicks = 983\n",
    "banner1_ctr = banner1_clicks / banner1_impressions\n",
    "\n",
    "banner2_impressions = 100000\n",
    "banner2_clicks = 4\n",
    "banner2_ctr = banner2_clicks / banner2_impressions\n",
    "\n",
    "print( 'Результаты первой кампании: показов {:.0f}, кликов {:.0f}, CTR {:.3%}'.format(banner1_impressions,banner1_clicks,banner1_ctr))\n",
    "\n"
   ]
  },
  {
   "cell_type": "code",
   "execution_count": 11,
   "metadata": {},
   "outputs": [
    {
     "data": {
      "text/plain": [
       "True"
      ]
     },
     "execution_count": 11,
     "metadata": {},
     "output_type": "execute_result"
    }
   ],
   "source": [
    "a = 1\n",
    "b = 2\n",
    "\n",
    "a <= b"
   ]
  },
  {
   "cell_type": "code",
   "execution_count": null,
   "metadata": {},
   "outputs": [],
   "source": []
  }
 ],
 "metadata": {
  "kernelspec": {
   "display_name": "Python 3",
   "language": "python",
   "name": "python3"
  },
  "language_info": {
   "codemirror_mode": {
    "name": "ipython",
    "version": 3
   },
   "file_extension": ".py",
   "mimetype": "text/x-python",
   "name": "python",
   "nbconvert_exporter": "python",
   "pygments_lexer": "ipython3",
   "version": "3.6.5"
  }
 },
 "nbformat": 4,
 "nbformat_minor": 2
}
