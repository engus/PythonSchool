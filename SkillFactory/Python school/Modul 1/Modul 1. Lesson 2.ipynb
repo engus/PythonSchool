{
 "cells": [
  {
   "cell_type": "markdown",
   "metadata": {},
   "source": [
    "### Modul 1. Lesson 2\n",
    "CTR Calculation\n"
   ]
  },
  {
   "cell_type": "code",
   "execution_count": 25,
   "metadata": {},
   "outputs": [
    {
     "name": "stdout",
     "output_type": "stream",
     "text": [
      "banner 1 ctr = 0.00098\n",
      "banner 2 ctr = 0.00004\n",
      "ctr of first banner is bigger of 2 in 25 times\n"
     ]
    }
   ],
   "source": [
    "banner1_impressions = 1000000\n",
    "banner1_clicks = 983\n",
    "banner1_ctr = banner1_clicks / banner1_impressions\n",
    "\n",
    "banner2_impressions = 100000\n",
    "banner2_clicks = 4\n",
    "banner2_ctr = banner2_clicks / banner2_impressions\n",
    "\n",
    "print ('banner 1 ctr = {:.5f}'.format(banner1_ctr))\n",
    "print ('banner 2 ctr = {:.5f}'.format(banner2_ctr))\n",
    "print ('ctr of first banner is bigger of 2 in {:.0f} times'.format(banner1_ctr/banner2_ctr))\n"
   ]
  },
  {
   "cell_type": "code",
   "execution_count": 28,
   "metadata": {},
   "outputs": [
    {
     "name": "stdout",
     "output_type": "stream",
     "text": [
      "<class 'int'>\n",
      "<class 'int'>\n",
      "<class 'float'>\n"
     ]
    }
   ],
   "source": [
    "print(type(banner1_impressions))\n",
    "print(type(banner1_clicks))\n",
    "print(type(banner1_ctr))"
   ]
  },
  {
   "cell_type": "code",
   "execution_count": 29,
   "metadata": {},
   "outputs": [
    {
     "name": "stdout",
     "output_type": "stream",
     "text": [
      "<class 'float'>\n"
     ]
    }
   ],
   "source": [
    "print(type(2**(1/2)))"
   ]
  },
  {
   "cell_type": "code",
   "execution_count": null,
   "metadata": {},
   "outputs": [],
   "source": []
  }
 ],
 "metadata": {
  "kernelspec": {
   "display_name": "Python 3",
   "language": "python",
   "name": "python3"
  },
  "language_info": {
   "codemirror_mode": {
    "name": "ipython",
    "version": 3
   },
   "file_extension": ".py",
   "mimetype": "text/x-python",
   "name": "python",
   "nbconvert_exporter": "python",
   "pygments_lexer": "ipython3",
   "version": "3.6.5"
  }
 },
 "nbformat": 4,
 "nbformat_minor": 2
}
