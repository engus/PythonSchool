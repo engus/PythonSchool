{
 "cells": [
  {
   "cell_type": "code",
   "execution_count": null,
   "metadata": {},
   "outputs": [],
   "source": [
    "from datetime import datetime, timedelta\n",
    "\n",
    "date_string = 'May 9 2017 9:00AM'\n",
    "\n",
    "date_datetime = datetime.strptime( date_string, '%B %d %Y %I:%M%p' )\n",
    "\n",
    "date_datetime + timedelta(hours=1)\n",
    "\n",
    "\n",
    "\n"
   ]
  },
  {
   "cell_type": "code",
   "execution_count": null,
   "metadata": {},
   "outputs": [],
   "source": [
    "start_date = '2017-01-01'\n",
    "\n",
    "start_date_dt = datetime.strptime(start_date, '%Y-%m-%d')\n",
    "start_date_dt + timedelta(minutes = 1)"
   ]
  },
  {
   "cell_type": "code",
   "execution_count": null,
   "metadata": {},
   "outputs": [],
   "source": [
    "from datetime import datetime, timedelta\n",
    "\n",
    "date_string = 'May 9 2017 9:00AM'\n",
    "\n",
    "date_datetime = datetime.strptime( date_string, '%B %d %Y %I:%M%p' )\n",
    "\n",
    "date_datetime += timedelta(hours=1)\n",
    "\n",
    "new_date_string = date_datetime.strftime( '%Y-%m-%d' )\n",
    "new_date_string"
   ]
  },
  {
   "cell_type": "code",
   "execution_count": null,
   "metadata": {},
   "outputs": [],
   "source": [
    "from datetime import datetime, timedelta\n",
    "\n",
    "def date_converter(date_string):\n",
    "    return datetime.strptime(date_string, '%Y-%m-%d')\n",
    "\n",
    "\n",
    "start_date = '2017-01-01'\n",
    "end_date = '2017-01-03'\n",
    "\n",
    "start_date_dt = date_converter(start_date)\n",
    "end_date_dt = date_converter(end_date)\n",
    "\n",
    "current_day_dt = start_date_dt\n",
    "\n",
    "while (current_day_dt <= end_date_dt):\n",
    "    print(current_day_dt.strftime('%Y-%m-%d %H:%M:%S'))\n",
    "    current_day_dt+= timedelta(hours = 1)"
   ]
  },
  {
   "cell_type": "code",
   "execution_count": null,
   "metadata": {
    "slideshow": {
     "slide_type": "slide"
    }
   },
   "outputs": [],
   "source": [
    "from datetime import datetime, timedelta\n",
    "\n",
    "hourly_stats= {}\n",
    "total_purchase_count = 0\n",
    "def date_converter(date_string):\n",
    "    return datetime.strptime(date_string, '%d.%m.%Y %H:%M')\n",
    "\n",
    "with open ('data_no_header.txt', 'r') as f:\n",
    "    for line in f:\n",
    "        line = line.strip().split('\\t')\n",
    "        purchase_dt = date_converter(line[1])\n",
    "        purchase_amount = line[-1]\n",
    "        \n",
    "        if purchase_dt.hour in hourly_stats:\n",
    "            hourly_stats[purchase_dt.hour] += 1\n",
    "        else:     \n",
    "            hourly_stats[purchase_dt.hour] = 1\n",
    "        total_purchase_count+=1\n",
    "        \n",
    "#print(hourly_stats[19])\n",
    "\n",
    "for hour in hourly_stats:\n",
    "    hourly_stats[hour] /= total_purchase_count\n",
    "    print('{}: {:.2%}:'.format(hour, hourly_stats[hour]) )\n",
    "    \n",
    "total_load = 0    \n",
    "for hour, load in hourly_stats.items():\n",
    "    total_load += load\n",
    "print(total_load)    \n"
   ]
  },
  {
   "cell_type": "code",
   "execution_count": 21,
   "metadata": {
    "slideshow": {
     "slide_type": "-"
    }
   },
   "outputs": [
    {
     "name": "stdout",
     "output_type": "stream",
     "text": [
      "Пользователей с ненулевым LT: 124\n",
      "Суммарное количество дней: 173\n",
      "Lifetime = 1.4 days\n",
      "LifetimeValue = 41.463 \n"
     ]
    }
   ],
   "source": [
    "from datetime import datetime, timedelta\n",
    "\n",
    "hourly_stats= {}\n",
    "total_purchase_count = 0\n",
    "def date_converter(date_string):\n",
    "    return datetime.strptime(date_string, '%d.%m.%Y %H:%M')\n",
    "\n",
    "started = True\n",
    "\n",
    "user_id_transactions = []\n",
    "\n",
    "\n",
    "# Функция возвращает lifetime в днях для пользователя со списком транзакций user_id_transactions.\n",
    "# Лист user_id_transactions имеет вид\n",
    "# [ \n",
    "#     [datetime.datetime(2016, 10, 5, 3, 23), 13.2], \n",
    "#     [datetime.datetime(2016, 10, 5, 23, 19), 9.8],\n",
    "#     ...\n",
    "# ]\n",
    "def  LT_calculation(user_id_transactions):\n",
    "    first_order = user_id_transactions[0]\n",
    "    first_order_dt = first_order[0]\n",
    "    last_order = user_id_transactions[-1]\n",
    "    last_order_dt = last_order[0]\n",
    "    return (last_order_dt - first_order_dt).days\n",
    "\n",
    "\n",
    "LT_days = 0\n",
    "LT_users = 0\n",
    "\n",
    "total_lt_dyas = 0\n",
    "total_purchased_amount = 0\n",
    "with open ('data_no_header.txt', 'r') as f:\n",
    "    for line in f:\n",
    "        line = line.strip().split('\\t')\n",
    "        purchase_dt = date_converter(line[1])\n",
    "        purchase_amount = float(line[-1].replace(',','.'))\n",
    "        user_id = line[2]\n",
    "        \n",
    "        #print(purchase_dt, purchase_amount, user_id)\n",
    "        total_purchased_amount += purchase_amount\n",
    "        if started:\n",
    "            previous_user_id = user_id\n",
    "            user_id_transactions = [ [purchase_dt, purchase_amount] ]\n",
    "            started = False\n",
    "        else:\n",
    "            if user_id == previous_user_id:\n",
    "                user_id_transactions.append( [purchase_dt, purchase_amount] )\n",
    "            else:\n",
    "                LT_days_for_current_user = LT_calculation(user_id_transactions)\n",
    "                \n",
    "                #if LT_days_for_current_user > 0:\n",
    "                \n",
    "                LT_days += LT_days_for_current_user\n",
    "                LT_users += 1\n",
    "                \n",
    "                previous_user_id = user_id\n",
    "                user_id_transactions = [ [purchase_dt, purchase_amount]]\n",
    "\n",
    "LT_days_for_current_user = LT_calculation( user_id_transactions )\n",
    "#if LT_days_for_current_user > 0:\n",
    "LT_days += LT_days_for_current_user\n",
    "LT_users += 1 \n",
    "total_purchased_amount += purchase_amount\n",
    "\n",
    "print('Пользователей с ненулевым LT: {}'.format(LT_users))\n",
    "print('Суммарное количество дней: {}'.format(LT_days))\n",
    "print('Lifetime = {:.1f} days'.format( LT_days / LT_users ))\n",
    "print('LifetimeValue = {:.3f} '.format( total_purchased_amount / LT_users ))\n",
    "\n"
   ]
  },
  {
   "cell_type": "code",
   "execution_count": null,
   "metadata": {},
   "outputs": [],
   "source": []
  }
 ],
 "metadata": {
  "kernelspec": {
   "display_name": "Python 3",
   "language": "python",
   "name": "python3"
  },
  "language_info": {
   "codemirror_mode": {
    "name": "ipython",
    "version": 3
   },
   "file_extension": ".py",
   "mimetype": "text/x-python",
   "name": "python",
   "nbconvert_exporter": "python",
   "pygments_lexer": "ipython3",
   "version": "3.6.5"
  }
 },
 "nbformat": 4,
 "nbformat_minor": 2
}
