{
 "cells": [
  {
   "cell_type": "markdown",
   "metadata": {},
   "source": [
    "# Least Common Divisor (Euclidean algorithm)"
   ]
  },
  {
   "cell_type": "code",
   "execution_count": 77,
   "metadata": {},
   "outputs": [
    {
     "name": "stdout",
     "output_type": "stream",
     "text": [
      "45\n"
     ]
    }
   ],
   "source": [
    "def gcd_subst(a, b):\n",
    "    if a == b: \n",
    "        return a\n",
    "    else:\n",
    "        max, min = a if a > b else b, a if a < b else b\n",
    "        return gcd_subst(max - min, min)\n",
    "\n",
    "def gcd_div(a, b):\n",
    "    if b == 0: \n",
    "        return a\n",
    "    else:\n",
    "        return gcd_div(b, a % b)\n",
    "    \n",
    "    \n",
    "a = 135\n",
    "b = 630\n",
    "\n",
    "\n",
    "\n",
    "print(gcd_div(a, b))\n"
   ]
  },
  {
   "cell_type": "code",
   "execution_count": 71,
   "metadata": {},
   "outputs": [
    {
     "name": "stdout",
     "output_type": "stream",
     "text": [
      "135\n",
      "90\n"
     ]
    }
   ],
   "source": [
    "a = 135\n",
    "b = 630\n",
    "\n",
    "print (a % b)\n",
    "print (b % a)"
   ]
  },
  {
   "cell_type": "code",
   "execution_count": null,
   "metadata": {},
   "outputs": [],
   "source": []
  }
 ],
 "metadata": {
  "kernelspec": {
   "display_name": "Python 3",
   "language": "python",
   "name": "python3"
  },
  "language_info": {
   "codemirror_mode": {
    "name": "ipython",
    "version": 3
   },
   "file_extension": ".py",
   "mimetype": "text/x-python",
   "name": "python",
   "nbconvert_exporter": "python",
   "pygments_lexer": "ipython3",
   "version": "3.6.5"
  }
 },
 "nbformat": 4,
 "nbformat_minor": 2
}
