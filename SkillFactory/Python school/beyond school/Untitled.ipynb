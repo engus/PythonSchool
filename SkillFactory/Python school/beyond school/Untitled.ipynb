{
 "cells": [
  {
   "cell_type": "code",
   "execution_count": 1,
   "metadata": {},
   "outputs": [
    {
     "name": "stdout",
     "output_type": "stream",
     "text": [
      "['False', 'None', 'True', 'and', 'as', 'assert', 'break', 'class', 'continue', 'def', 'del', 'elif', 'else', 'except', 'finally', 'for', 'from', 'global', 'if', 'import', 'in', 'is', 'lambda', 'nonlocal', 'not', 'or', 'pass', 'raise', 'return', 'try', 'while', 'with', 'yield']\n"
     ]
    }
   ],
   "source": [
    "import keyword\n",
    "print (keyword.kwlist)"
   ]
  },
  {
   "cell_type": "code",
   "execution_count": 3,
   "metadata": {},
   "outputs": [
    {
     "data": {
      "text/plain": [
       "True"
      ]
     },
     "execution_count": 3,
     "metadata": {},
     "output_type": "execute_result"
    }
   ],
   "source": [
    "keyword.iskeyword('try')"
   ]
  },
  {
   "cell_type": "code",
   "execution_count": 6,
   "metadata": {},
   "outputs": [
    {
     "name": "stdout",
     "output_type": "stream",
     "text": [
      "5\n"
     ]
    },
    {
     "data": {
      "text/plain": [
       "4328506848"
      ]
     },
     "execution_count": 6,
     "metadata": {},
     "output_type": "execute_result"
    }
   ],
   "source": [
    "a = 5\n",
    "print(a)\n",
    "id(a)"
   ]
  },
  {
   "cell_type": "code",
   "execution_count": 12,
   "metadata": {},
   "outputs": [
    {
     "name": "stdout",
     "output_type": "stream",
     "text": [
      "4328506848 4328506816\n",
      "4328506816 4328506816\n",
      "4328506816 4328506848\n"
     ]
    }
   ],
   "source": [
    "a = 5\n",
    "b = 4\n",
    "print (id(a), id(b))\n",
    "\n",
    "a = b\n",
    "print (id(a), id(b))\n",
    "\n",
    "b += 1\n",
    "print (id(a), id(b))"
   ]
  },
  {
   "cell_type": "code",
   "execution_count": 20,
   "metadata": {},
   "outputs": [
    {
     "name": "stdout",
     "output_type": "stream",
     "text": [
      "[1, 2] 4328506720 4328506752\n",
      "[100, 2] 4328509888 4328506752\n"
     ]
    }
   ],
   "source": [
    "a = [1, 2]\n",
    "print (a, id(a[0]), id(a[1]))\n",
    "\n",
    "a[0] = 100  \n",
    "print (a, id(a[0]), id(a[1]))"
   ]
  },
  {
   "cell_type": "code",
   "execution_count": 22,
   "metadata": {},
   "outputs": [
    {
     "name": "stdout",
     "output_type": "stream",
     "text": [
      "{1: '111', 'two': '222', (3, 5, 7): '333', <function pow2 at 0x104518a60>: '444'}\n"
     ]
    }
   ],
   "source": [
    "def pow2( i ):\n",
    "    return i * i\n",
    " \n",
    "d = { 1:\"111\", 'two':\"222\", (3, 5, 7):\"333\", pow2:\"444\" }; print( d )"
   ]
  },
  {
   "cell_type": "code",
   "execution_count": 27,
   "metadata": {},
   "outputs": [
    {
     "name": "stdout",
     "output_type": "stream",
     "text": [
      "i - это : <class 'NoneType'>      |id=101fb7f78 |hash=-9223372036584261641 ==> None\n"
     ]
    }
   ],
   "source": [
    "def show(i):\n",
    "    msgt = '{}'.format( type( i ) )\n",
    "    msgi = 'id={:09x}'.format( id( i ) )\n",
    "    msgv = '{}'.format( str( i ) )\n",
    "    try:\n",
    "        msgh = 'hash={:012d}'.format( hash( i ) )\n",
    "    except TypeError:\n",
    "        msgh = 'не хэшируемый тип!'\n",
    "    print( 'i - это : {:23} |{} |{} ==> {}'.format( msgt, msgi, msgh, msgv ) )\n",
    "    \n",
    "i = { 1, 2, 3 }; show(None) "
   ]
  },
  {
   "cell_type": "code",
   "execution_count": 28,
   "metadata": {},
   "outputs": [
    {
     "name": "stdout",
     "output_type": "stream",
     "text": [
      "2.4699329180060256e+41\n"
     ]
    }
   ],
   "source": [
    "print(1.1**1000)"
   ]
  },
  {
   "cell_type": "code",
   "execution_count": null,
   "metadata": {},
   "outputs": [],
   "source": []
  }
 ],
 "metadata": {
  "kernelspec": {
   "display_name": "Python 3",
   "language": "python",
   "name": "python3"
  },
  "language_info": {
   "codemirror_mode": {
    "name": "ipython",
    "version": 3
   },
   "file_extension": ".py",
   "mimetype": "text/x-python",
   "name": "python",
   "nbconvert_exporter": "python",
   "pygments_lexer": "ipython3",
   "version": "3.6.5"
  }
 },
 "nbformat": 4,
 "nbformat_minor": 2
}
