{
 "cells": [
  {
   "cell_type": "markdown",
   "metadata": {},
   "source": [
    "### Modul 4. Lesson 3"
   ]
  },
  {
   "cell_type": "code",
   "execution_count": 47,
   "metadata": {},
   "outputs": [
    {
     "name": "stdout",
     "output_type": "stream",
     "text": [
      "['burgerclub', 'cpa-partners', '10', '185']\n",
      "['city-magazine', 'cpc-partners', '5', '81']\n",
      "['direct', 'brand', '5', '88']\n",
      "['facebook', 'smm', '5', '91']\n",
      "['food-delivery', 'cpa-partners', '10', '173']\n",
      "['foody', 'cpc-partners', '3', '66']\n",
      "['google', 'brand', '6', '105']\n",
      "['google', 'sem', '56', '938']\n",
      "['google', 'seo', '15', '276']\n",
      "['newsletter', 'email', '5', '98']\n",
      "['promo', 'email', '68', '1181']\n",
      "['vk', 'smm', '2', '29']\n",
      "['yandex', 'brand', '7', '130']\n",
      "['yandex', 'sem', '67', '1132']\n",
      "['yandex', 'seo', '30', '556']\n",
      "56\n"
     ]
    }
   ],
   "source": [
    "def dictionary_key_checker (_keys, _dict, _lvl):\n",
    "    if _lvl >= len(_keys):\n",
    "        return True\n",
    "    elif (_keys[_lvl] in _dict) and (type(orders_dict) == dict):\n",
    "        return dictionary_key_checker(_keys, _dict[_keys[_lvl]], _lvl+1)        \n",
    "    else: \n",
    "        return False\n",
    "\n",
    "\n",
    "\"\"\" search a data in file with the same source.\n",
    "Inputs: source\n",
    "\n",
    "\"\"\"\n",
    "def search_in_file( _source, _medium, _dict ):\n",
    "    if dictionary_key_checker([_source, _medium], orders_dict, 0):\n",
    "        return _dict[_source][_medium]\n",
    "    else: \n",
    "        return 0\n",
    "\n",
    "\n",
    "orders_dict = {}\n",
    "\n",
    "\n",
    "with open('orders_by_source_and_medium.txt','r') as f:\n",
    "    for line in f:\n",
    "        line = line.strip().split('\\t')\n",
    "        print(line)\n",
    "        source = line[0]\n",
    "        medium = line[1]\n",
    "        orders = line[2]\n",
    "        orders_dict.setdefault(source, {})\n",
    "        orders_dict[source][medium] = int(orders)\n",
    "\n",
    "\n",
    "print(search_in_file('google', 'sem', orders_dict))\n",
    "\n",
    "\n",
    "# with open('joined_by_source.txt', 'w') as f_joined:\n",
    "#     f_joined.write('source\\tvisits\\torders\\tconv_rate\\n')\n",
    "#     with open('visits_by_source.txt','r') as f:\n",
    "#         for line in f:\n",
    "#             line = line.strip().split('\\t')\n",
    "#             source = line[0]\n",
    "#             visits = int(line[1])\n",
    "#             orders = search_in_file(source, orders_dict)\n",
    "#             total_visits += visits\n",
    "#             total_orders += orders\n",
    "# #            print('{} {} {} {:.3f}'.format(source, visits, orders, orders/visits))\n",
    "#             f_joined.write('{}\\t{}\\t{}\\t{:.3f}\\n'.format( source, visits, orders, orders/visits))\n",
    "\n",
    "# print('{:.3f}'.format(total_orders/total_visits))\n",
    "\n",
    "        \n"
   ]
  },
  {
   "cell_type": "code",
   "execution_count": 53,
   "metadata": {},
   "outputs": [
    {
     "data": {
      "text/plain": [
       "0"
      ]
     },
     "execution_count": 53,
     "metadata": {},
     "output_type": "execute_result"
    }
   ],
   "source": [
    "def google_costs(data):\n",
    "    data.setdefault('google', 0)\n",
    "    return data['google']\n",
    "google_costs( {'vk': 100} )"
   ]
  },
  {
   "cell_type": "code",
   "execution_count": null,
   "metadata": {},
   "outputs": [],
   "source": []
  }
 ],
 "metadata": {
  "kernelspec": {
   "display_name": "Python 3",
   "language": "python",
   "name": "python3"
  },
  "language_info": {
   "codemirror_mode": {
    "name": "ipython",
    "version": 3
   },
   "file_extension": ".py",
   "mimetype": "text/x-python",
   "name": "python",
   "nbconvert_exporter": "python",
   "pygments_lexer": "ipython3",
   "version": "3.6.5"
  }
 },
 "nbformat": 4,
 "nbformat_minor": 2
}
