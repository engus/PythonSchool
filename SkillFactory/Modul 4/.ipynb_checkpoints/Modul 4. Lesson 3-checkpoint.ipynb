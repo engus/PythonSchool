{
 "cells": [
  {
   "cell_type": "markdown",
   "metadata": {},
   "source": [
    "### Modul 4. Lesson 2"
   ]
  },
  {
   "cell_type": "code",
   "execution_count": 17,
   "metadata": {},
   "outputs": [
    {
     "name": "stdout",
     "output_type": "stream",
     "text": [
      "0.007\n"
     ]
    }
   ],
   "source": [
    "\"\"\" search a data in file with the same source.\n",
    "Inputs: source\n",
    "\n",
    "\"\"\"\n",
    "def search_in_file( _source, _dict ):\n",
    "    if _source in _dict:\n",
    "        return _dict[_source]\n",
    "    else: \n",
    "        return 0\n",
    "\n",
    "\n",
    "orders_dict = {}\n",
    "with open('orders_by_source.txt','r') as f:\n",
    "    for line in f:\n",
    "        line = line.strip().split('\\t')\n",
    "        orders_dict[line[0]] = int(line[1])\n",
    "\n",
    "total_orders = 0\n",
    "total_visits = 0\n",
    "\n",
    "with open('joined_by_source.txt', 'w') as f_joined:\n",
    "    f_joined.write('source\\tvisits\\torders\\tconv_rate\\n')\n",
    "    with open('visits_by_source.txt','r') as f:\n",
    "        for line in f:\n",
    "            line = line.strip().split('\\t')\n",
    "            source = line[0]\n",
    "            visits = int(line[1])\n",
    "            orders = search_in_file(source, orders_dict)\n",
    "            total_visits += visits\n",
    "            total_orders += orders\n",
    "#            print('{} {} {} {:.3f}'.format(source, visits, orders, orders/visits))\n",
    "            f_joined.write('{}\\t{}\\t{}\\t{:.3f}\\n'.format( source, visits, orders, orders/visits))\n",
    "\n",
    "print('{:.3f}'.format(total_orders/total_visits))\n",
    "\n",
    "        \n"
   ]
  },
  {
   "cell_type": "code",
   "execution_count": null,
   "metadata": {},
   "outputs": [],
   "source": []
  }
 ],
 "metadata": {
  "kernelspec": {
   "display_name": "Python 3",
   "language": "python",
   "name": "python3"
  },
  "language_info": {
   "codemirror_mode": {
    "name": "ipython",
    "version": 3
   },
   "file_extension": ".py",
   "mimetype": "text/x-python",
   "name": "python",
   "nbconvert_exporter": "python",
   "pygments_lexer": "ipython3",
   "version": "3.6.5"
  }
 },
 "nbformat": 4,
 "nbformat_minor": 2
}
