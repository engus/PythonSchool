{
 "cells": [
  {
   "cell_type": "markdown",
   "metadata": {},
   "source": [
    "### Modul 4. Lesson 2-3"
   ]
  },
  {
   "cell_type": "code",
   "execution_count": 14,
   "metadata": {},
   "outputs": [
    {
     "name": "stdout",
     "output_type": "stream",
     "text": [
      "68\n"
     ]
    }
   ],
   "source": [
    "\"\"\" search a data in file with the same source.\n",
    "Inputs: source\n",
    "\n",
    "\"\"\"\n",
    "def search_in_file( _source, _dict ):\n",
    "    if _source in _dict:\n",
    "        return _dict[_source]\n",
    "    else: \n",
    "        return 0\n",
    "\n",
    "\n",
    "orders_dict = {}\n",
    "with open('orders_by_source.txt','r') as f:\n",
    "    for line in f:\n",
    "        line = line.strip().split('\\t')\n",
    "        orders_dict[line[0]] = int(line[1])\n",
    "\n",
    "print (search_in_file('promo'))        \n"
   ]
  },
  {
   "cell_type": "code",
   "execution_count": null,
   "metadata": {},
   "outputs": [],
   "source": []
  }
 ],
 "metadata": {
  "kernelspec": {
   "display_name": "Python 3",
   "language": "python",
   "name": "python3"
  },
  "language_info": {
   "codemirror_mode": {
    "name": "ipython",
    "version": 3
   },
   "file_extension": ".py",
   "mimetype": "text/x-python",
   "name": "python",
   "nbconvert_exporter": "python",
   "pygments_lexer": "ipython3",
   "version": "3.6.5"
  }
 },
 "nbformat": 4,
 "nbformat_minor": 2
}
