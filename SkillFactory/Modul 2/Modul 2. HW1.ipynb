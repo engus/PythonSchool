{
 "cells": [
  {
   "cell_type": "markdown",
   "metadata": {},
   "source": [
    "### Modul 1. HW 1"
   ]
  },
  {
   "cell_type": "code",
   "execution_count": 6,
   "metadata": {},
   "outputs": [
    {
     "name": "stdout",
     "output_type": "stream",
     "text": [
      "['40443', '05.10.2016 23:18', '1010', '0,000925926', 'seo', 'google', '0', '6243', '20,20']\n",
      "['35044', '09.10.2016 21:40', '1036', '0,006493056', 'sem', 'yandex', '0,07', '6145', '15,60']\n",
      "['40177', '05.10.2016 3:23', '1041', '0,00337963', 'email', 'promo', '0', '6128', '13,20']\n",
      "['39401', '05.10.2016 23:19', '1041', '0,000462963', 'sem', 'yandex', '0,03', '6697', '9,80']\n",
      "['41545', '01.10.2016 4:57', '1042', '0,006493056', 'sem', 'google', '0,06', '4510', '14,80']\n"
     ]
    }
   ],
   "source": [
    "i = 0\n",
    "with open( 'data_no_header.txt', 'r' ) as f:\n",
    "    for line in f:\n",
    "        line = line.strip().split('\\t')\n",
    "        print (line)\n",
    "        if i == 4: \n",
    "            break\n",
    "        else:    \n",
    "            i+=1"
   ]
  },
  {
   "cell_type": "code",
   "execution_count": 22,
   "metadata": {},
   "outputs": [
    {
     "name": "stdout",
     "output_type": "stream",
     "text": [
      "{'search engines seo': {'cost': 686.2699999999992, 'income': 2902.4}, 'other': {'cost': 541.1059999999999, 'income': 1992.7999999999997}, 'search engines brand': {'cost': 52.0, 'income': 234.60000000000005}}\n",
      "search engines seo\t3.23\n",
      "other\t2.68\n",
      "search engines brand\t3.51\n"
     ]
    }
   ],
   "source": [
    "cpa_commission = {\n",
    "    'burgerclub': 0.3,\n",
    "    'food-delivery': 0.25\n",
    "}\n",
    "\n",
    "cpc_commission = {\n",
    "    'city-magazine': 7,\n",
    "    'foody': 9\n",
    "}\n",
    "\n",
    "fixed_commission = 4\n",
    "\n",
    "\n",
    "\"\"\" \n",
    "Функция по названию канала source возвращает размер комиссии.\n",
    "Размеры комиссий берутся из словарей cpa_commission, cpc_commission и значения fixed_commission\n",
    "\"\"\"\n",
    "def costs_classification( amount_paid, source ):\n",
    "    commission = fixed_commission\n",
    "    \n",
    "    if source in cpa_commission:\n",
    "        commission = amount_paid * cpa_commission[source]\n",
    "\n",
    "    if source in cpc_commission:\n",
    "        commission = cpc_commission[source]\n",
    "    return commission\n",
    "\n",
    "\n",
    "\n",
    "\"\"\"\n",
    "Функция для строки line возвращает итоговый расход и доход\n",
    "\"\"\"\n",
    "def expense_and_income( line ):\n",
    "    medium = line[4]\n",
    "    source = line[5]\n",
    "    amount_paid = float( line[-1].replace( ',', '.' ) )\n",
    "    cost = float( line[6].replace( ',', '.' ) )\n",
    "    partner_comission = costs_classification( amount_paid, source )    \n",
    "    return medium, source, cost + partner_comission, amount_paid\n",
    "\n",
    "\n",
    "def source_classification(source, medium):\n",
    "    if source == 'google' or source == 'yandex':\n",
    "        if medium == 'seo' or medium == 'sem':\n",
    "            source_type = 'search engines seo'\n",
    "        elif medium == 'brand':\n",
    "            source_type = 'search engines brand'\n",
    "        else:\n",
    "            source_type = 'search engines undefined'\n",
    "    else: \n",
    "        source_type = 'other'\n",
    "    return source_type\n",
    "        \n",
    "        \n",
    "roi_stats = {}\n",
    "with open( 'data_no_header.txt', 'r' ) as f:\n",
    "    for line in f:\n",
    "        line = line.strip().split('\\t')\n",
    "        medium, source, cost, income = expense_and_income( line )\n",
    "        source_type = source_classification(source, medium)\n",
    "        \n",
    "        if source_type in roi_stats:\n",
    "            roi_stats[ source_type ][ 'cost' ] += cost\n",
    "            roi_stats[ source_type ][ 'income' ] += income\n",
    "        else:\n",
    "            roi_stats[ source_type ] = {}\n",
    "            roi_stats[ source_type ][ 'cost' ] = cost\n",
    "            roi_stats[ source_type ][ 'income' ] = income\n",
    "               \n",
    "\n",
    "print(roi_stats)       \n",
    "                \n",
    "for source_type, data in roi_stats.items():\n",
    "    data['roi'] = ( data['income'] - data['cost'] ) / data['cost']\n",
    "\n",
    "for source_type, data in roi_stats.items():\n",
    "    print( '{}\\t{:.2f}'.format(source_type, data['roi'] ) )\n",
    "      "
   ]
  },
  {
   "cell_type": "code",
   "execution_count": null,
   "metadata": {},
   "outputs": [],
   "source": []
  },
  {
   "cell_type": "code",
   "execution_count": null,
   "metadata": {},
   "outputs": [],
   "source": []
  }
 ],
 "metadata": {
  "kernelspec": {
   "display_name": "Python 3",
   "language": "python",
   "name": "python3"
  },
  "language_info": {
   "codemirror_mode": {
    "name": "ipython",
    "version": 3
   },
   "file_extension": ".py",
   "mimetype": "text/x-python",
   "name": "python",
   "nbconvert_exporter": "python",
   "pygments_lexer": "ipython3",
   "version": "3.6.5"
  }
 },
 "nbformat": 4,
 "nbformat_minor": 2
}
